{
 "cells": [
  {
   "cell_type": "markdown",
   "id": "6ec8f6e0",
   "metadata": {},
   "source": [
    "<h1>SLoPP: Structural Learning of PSDDs under Partial Closed-World Assumption</h1>\n",
    "<p>This notebook contains a (highly experimental and not optimized) version of SLoPP, a structural learning algorithm for PSDDs.</p>\n",
    "<p>The code is using the Juice (Julia) library for Probabilistic Circuits.</p>"
   ]
  },
  {
   "cell_type": "markdown",
   "id": "ccc08313",
   "metadata": {},
   "source": [
    "<h2>Imports</h2>"
   ]
  },
  {
   "cell_type": "code",
   "execution_count": 94,
   "id": "d3ccadb3",
   "metadata": {},
   "outputs": [],
   "source": [
    "import Printf\n",
    "using LogicCircuits\n",
    "using ProbabilisticCircuits\n",
    "using DataFrames\n",
    "using BenchmarkTools\n",
    "using TikzPictures\n",
    "using Clustering: kmeans, nclusters, assignments\n",
    "#using Statistics: mean\n",
    "#using LinearAlgebra: normalize\n",
    "TikzPictures.standaloneWorkaround(true)\n",
    "using LogicCircuits.LoadSave: SDDElement, \n",
    "    PSDDElement, \n",
    "    save_lines,\n",
    "    get_vtree2id,\n",
    "    get_node2id,\n",
    "    parse_psdd_file, \n",
    "    PsddHeaderLine, \n",
    "    LcHeaderLine, \n",
    "    get_nodes_level"
   ]
  },
  {
   "cell_type": "markdown",
   "id": "58027d5b",
   "metadata": {},
   "source": [
    "<h2>Algorithm Parameters</h2>\n",
    "<p>The user can set the number of clusters returned by the clustering algorithm and the minimum number of instances to build a cluster.</p>"
   ]
  },
  {
   "cell_type": "code",
   "execution_count": 95,
   "id": "a4865886",
   "metadata": {},
   "outputs": [
    {
     "data": {
      "text/plain": [
       "50"
      ]
     },
     "execution_count": 95,
     "metadata": {},
     "output_type": "execute_result"
    }
   ],
   "source": [
    "NCLUSTERS = 2\n",
    "MINCLUSTERSIZE = 50"
   ]
  },
  {
   "cell_type": "markdown",
   "id": "9d65ddeb",
   "metadata": {},
   "source": [
    "<h2>Subroutines</h2>"
   ]
  },
  {
   "cell_type": "code",
   "execution_count": 96,
   "id": "7a8eac2b",
   "metadata": {},
   "outputs": [
    {
     "data": {
      "text/plain": [
       "find_names (generic function with 1 method)"
      ]
     },
     "execution_count": 96,
     "metadata": {},
     "output_type": "execute_result"
    }
   ],
   "source": [
    "function bs2arr(bs)\n",
    "    y = variables(bs) # parsing the indexes of the variables on the right\n",
    "    yy = (x->collect.(x)).(y)\n",
    "    b = zeros(Int16,size(yy,1))\n",
    "    for i = 1:size(yy,1)\n",
    "        b[i] = yy[i][1]\n",
    "    end\n",
    "    return b\n",
    "end\n",
    "\n",
    "function lr(vtree) # returing the left and right variables of a vtree (or sub-vtree)\n",
    "    if typeof(vtree.left) == PlainVtreeLeafNode && typeof(vtree.right) == PlainVtreeLeafNode\n",
    "        l = [Int16(variable(vtree.left))]\n",
    "        r = [Int16(variable(vtree.right))] \n",
    "    elseif typeof(vtree.left) == PlainVtreeLeafNode\n",
    "        l = [Int16(variable(vtree.left))]\n",
    "        r = bs2arr(vtree.right)\n",
    "    else\n",
    "        l = bs2arr(vtree.left)\n",
    "        r = bs2arr(vtree.right)\n",
    "    end    \n",
    "    return [l,r]\n",
    "end\n",
    "\n",
    "# Modified version of the Juice clustering to also retrieve the assignments of the clusters \n",
    "function clustering2(data, mix_num::Int64; maxiter=200)::Vector\n",
    "    n = num_examples(data)\n",
    "    if mix_num == 1\n",
    "        return [data]\n",
    "    end\n",
    "    data = Matrix(data)\n",
    "    R = kmeans(data', mix_num; maxiter=maxiter)\n",
    "    @assert nclusters(R) == mix_num\n",
    "    a = assignments(R)\n",
    "    clustered_data = Vector()\n",
    "    for k in 1 : mix_num\n",
    "        push!(clustered_data, DataFrame(data[findall(x -> x == k, a), :]))\n",
    "    end\n",
    "    return [clustered_data,a]\n",
    "end\n",
    "\n",
    "# Function to fix the col names with sub-datasets\n",
    "function find_names(names_short,indexes_short,col_names)\n",
    "    m=Any[]\n",
    "    for i in indexes_short\n",
    "        push!(m,findfirst(x->x==col_names[i], names_short))\n",
    "    end\n",
    "    return m\n",
    "end"
   ]
  },
  {
   "cell_type": "markdown",
   "id": "74f6df45",
   "metadata": {},
   "source": [
    "<h2>Main Function</h2>"
   ]
  },
  {
   "cell_type": "code",
   "execution_count": 97,
   "id": "e5b72f0f",
   "metadata": {},
   "outputs": [
    {
     "data": {
      "text/plain": [
       "SLoPP (generic function with 4 methods)"
      ]
     },
     "execution_count": 97,
     "metadata": {},
     "output_type": "execute_result"
    }
   ],
   "source": [
    "function SLoPP(d,v,myrows,titles,parent=-1, element=-1, sibling=-1)\n",
    "    \n",
    "    node_id = rand(Int,1)[1] # Unique id for decision nodes, to be later replaced\n",
    "    psdd_node_id = length(myrows) # id to identify the psdd nodes\n",
    "    vtree_node_id = Int16(DICT_VTREE[v]) # id for the vtree nodes\n",
    "    \n",
    "    if typeof(v) == PlainVtreeLeafNode # for leav nodes a L or a T should be prepared\n",
    "        \n",
    "        var = Int16(variable(v)) # variable as in the vtree DEBUG check if -1\n",
    "        nt = count(i->(i == true), d[:,1]) # number of true states in the first (unique) col of db d\n",
    "        \n",
    "        if nt == size(d,1) # all the elements true, the literal is +L\n",
    "            myrow = [\"L\",psdd_node_id,vtree_node_id,var,parent,element,sibling]\n",
    "        elseif nt == 0 # all false, the literal is -L\n",
    "            myrow = [\"L\",psdd_node_id,vtree_node_id,-var,parent,element,sibling]           \n",
    "        else # some true and some false, Top with a weight\n",
    "            p = log(nt/size(d,1))\n",
    "            myrow = [\"T\",psdd_node_id,vtree_node_id,var,p,parent,element,sibling]\n",
    "        end\n",
    "        \n",
    "        append!(myrows,[myrow])\n",
    "        \n",
    "    else\n",
    "        variables = [find_names(names(d),vrb,titles)  for vrb in lr(v)] # fixing names \n",
    "        \n",
    "        if size(variables[1],1) == 1 # is single variable on the lft\n",
    "            dd = [filter(row -> row[variables[1][1]] == i, d) for i in 0:1] # Shannon decomp\n",
    "            d_left = [dd[i][:,variables[1]] for i in 1:2] # focus on left\n",
    "            d_right = [dd[i][:,variables[2]] for i in 1:2] # focus on right vars\n",
    "            p = [size(dd[i],1)/size(d,1) for i in 1:2] # thetas\n",
    "            ps = [ [\"*\", \"*\", log(p[c])] for c = 1:2 if p[c] > 0.0]\n",
    "            myrow = [\"D\",node_id,vtree_node_id,length(ps)]\n",
    "            [append!(myrow,pps) for pps in ps]\n",
    "            append!(myrow,[parent,element,sibling])\n",
    "            append!(myrows,[myrow])\n",
    "            for c = 1:2\n",
    "                if p[c] > 0.0\n",
    "                    SLoPP(d_left[c],v.left,myrows,titles,node_id,\"prime\",c)\n",
    "                    SLoPP(d_right[c],v.right,myrows,titles,node_id,\"sub\",c)\n",
    "                end\n",
    "            end          \n",
    "        else\n",
    "            if size(d,1) > MINCLUSTERSIZE\n",
    "                d_left = d[:,variables[1]]\n",
    "                clsts2 = clustering2(d_left,NCLUSTERS)\n",
    "                clsts = clsts2[1]\n",
    "                assignments = clsts2[2]\n",
    "                p = [size(clsts[c],1)/size(d,1) for c = 1:NCLUSTERS]\n",
    "                ps = [ [\"*\", \"*\", log(p[c])] for c = 1:NCLUSTERS if p[c] > 0.0]\n",
    "                myrow = [\"D\",node_id,vtree_node_id,length(ps)]\n",
    "                [append!(myrow,pps) for pps in ps]\n",
    "                append!(myrow,[parent,element,sibling])\n",
    "                append!(myrows,[myrow])\n",
    "                for c = 1:NCLUSTERS\n",
    "                    if p[c] > 0\n",
    "                        rename!(clsts[c],names(d_left))    \n",
    "                        SLoPP(clsts[c],v.left,myrows,titles,node_id,\"prime\",c)\n",
    "                        d_right = d[:,variables[2]]\n",
    "                        d2 = d_right[findall(x->x==c, assignments),:]\n",
    "                        SLoPP(d2,v.right,myrows,titles,node_id,\"sub\",c)\n",
    "                    end\n",
    "                end\n",
    "            else\n",
    "                myrow = [\"D\",node_id,vtree_node_id,1,\"*\",\"*\",0.0,parent,element,1]\n",
    "                append!(myrows,[myrow])\n",
    "                SLoPP(d[:,variables[1]],v.left,myrows,titles,node_id,\"prime\",1)\n",
    "                SLoPP(d[:,variables[2]],v.right,myrows,titles,node_id,\"sub\",1)\n",
    "            end\n",
    "        end\n",
    "    end\n",
    "    return myrows\n",
    "end"
   ]
  },
  {
   "cell_type": "markdown",
   "id": "3488ae1a",
   "metadata": {},
   "source": [
    "<h1>Replacer</h1>\n",
    "<p>As the PSDD is build following a top-down procedure, the node IDs are initially generated as random ids, to be later replaced by sequential ids.</p>"
   ]
  },
  {
   "cell_type": "code",
   "execution_count": 98,
   "id": "39d52d5c",
   "metadata": {},
   "outputs": [
    {
     "data": {
      "text/plain": [
       "replacer (generic function with 1 method)"
      ]
     },
     "execution_count": 98,
     "metadata": {},
     "output_type": "execute_result"
    }
   ],
   "source": [
    "function replacer(rows)\n",
    "    dict = Dict() # learn labels for D nodes\n",
    "    io = open(\"/Users/install/nodes.dict\", \"w\")\n",
    "    for (r,row) in enumerate(rows)\n",
    "         if row[1] == \"D\"\n",
    "             dict[row[2]] = r-1\n",
    "             println(io,row[2],\",\\t\",r-1)\n",
    "         end\n",
    "    end\n",
    "    close(io)\n",
    "    for (r,row) in enumerate(rows)\n",
    "        if row[length(row)-2] != 0 # if 0 root of the circuit\n",
    "            row[length(row)-2] = dict[row[length(row)-2]] # replacing parent indicator in the comments\n",
    "            if row[1] == \"D\" \n",
    "                row[2] = dict[row[2]] # replacing right node_id\n",
    "            end\n",
    "            rows[r] = row\n",
    "        end\n",
    "    end\n",
    "    rows[1][2] = dict[rows[1][2]]\n",
    "end    "
   ]
  },
  {
   "cell_type": "markdown",
   "id": "a3feb1e7",
   "metadata": {},
   "source": [
    "<h1>Experiments</h1>"
   ]
  },
  {
   "cell_type": "code",
   "execution_count": null,
   "id": "f3634e0e",
   "metadata": {},
   "outputs": [
    {
     "name": "stdout",
     "output_type": "stream",
     "text": [
      "DB:\t\t baudio\n",
      "k:\t\t 2\n",
      "d:\t\t 50\n",
      "|X|:\t\t 100\n",
      "|D_train|:\t 15000\n",
      "|D_test|:\t 3000\n"
     ]
    }
   ],
   "source": [
    "twenty_dataset_names = [\n",
    "        \"accidents\", \"ad\", \"baudio\", \"bbc\", \"bnetflix\", \"book\", \"c20ng\", \"cr52\", \"cwebkb\",\n",
    "        \"dna\", \"jester\", \"kdd\", \"kosarek\", \"msnbc\", \"msweb\", \"nltcs\", \"plants\", \"pumsb_star\", \"tmovie\", \"tretail\", \n",
    "        \"binarized_mnist\"\n",
    "];\n",
    "\n",
    "\n",
    "db_name = \"baudio\" # \"plants\" # \"nltcs\"\n",
    "train_x, valid_x, test_x = twenty_datasets(db_name)\n",
    "\n",
    "test_size = size(test_x,1)\n",
    "train_size = size(train_x,1)\n",
    "n_x = size(test_x,2)\n",
    "\n",
    "println(\"DB:\\t\\t $db_name\")\n",
    "println(\"k:\\t\\t $NCLUSTERS\")\n",
    "println(\"d:\\t\\t $MINCLUSTERSIZE\")\n",
    "println(\"|X|:\\t\\t $n_x\")\n",
    "println(\"|D_train|:\\t $train_size\")\n",
    "println(\"|D_test|:\\t $test_size\")\n",
    "\n",
    "\n",
    "pc_cl, vtree_cl = learn_chow_liu_tree_circuit(train_x)\n",
    "d = train_x[:,:] # Using fewer data for quicker tests\n",
    "DICT_VTREE = get_vtree2id(vtree_cl);\n",
    "pc = SLoPP(d,vtree_cl,[],names(d),0);\n",
    "io = open(\"/Users/install/skeleton.psdd\", \"w\")\n",
    "for o in pc\n",
    "    println(io,join(o[1:length(o)],\" \"))\n",
    "end\n",
    "close(io)\n",
    "replacer(pc)\n",
    "for (r,row) in enumerate(pc)\n",
    "    if row[1] == \"D\"\n",
    "        node_id = row[2]\n",
    "        candidates = [row2 for row2 in pc if row2[length(row2)-2]==node_id]\n",
    "        primes = [(c[2],c[length(c)])  for c in candidates if c[length(c)-1]==\"prime\"]\n",
    "        subs = [(c[2],c[length(c)])  for c in candidates if c[length(c)-1]==\"sub\"]\n",
    "        pairs = [(p,s) for (p,s) in zip(primes,subs)]\n",
    "        for k in 1:length(pairs)\n",
    "            #row[2+3*pairs[k][1][2]] = pairs[k][1][1]\n",
    "            #row[3+3*pairs[k][2][2]] = pairs[k][2][1]\n",
    "            row[2+3*k] = pairs[k][1][1] # DEBUG\n",
    "            row[3+3*k] = pairs[k][2][1]\n",
    "        end\n",
    "        pc[r] = row\n",
    "    end\n",
    "end\n",
    "# DEBUG\n",
    "for (r,row) in enumerate(pc)\n",
    "     if  occursin(\"*\", join(row[1:length(row)],\" \"))\n",
    "        println(row)\n",
    "     end\n",
    "end\n",
    "io = open(\"/Users/install/psdd.psdd\", \"w\")\n",
    "for o in reverse(pc)\n",
    "    println(io,join(o[1:length(o)-3],\" \"))\n",
    "end\n",
    "close(io)\n",
    "pc_slopp = load_prob_circuit(\"/Users/install/psdd.psdd\")\n",
    "v = Vtree(num_features(train_x), :balanced)\n",
    "pc_ff = fully_factorized_circuit(StructProbCircuit, v); \n",
    "pc_st = learn_circuit(train_x; maxiter = 100, verbose = false)\n",
    "\n",
    "tot1 = 0.0\n",
    "tot2 = 0.0\n",
    "tot3 = 0.0\n",
    "tot4 = 0.0\n",
    "exc = 0\n",
    "for j = 1:size(test_x,1)\n",
    "    ll1 = log_likelihood_avg(pc_slopp, test_x[j:j,:])\n",
    "    ll2 = log_likelihood_avg(pc_ff, test_x[j:j,:])\n",
    "    ll3 = log_likelihood_avg(pc_cl, test_x[j:j,:])\n",
    "    ll4 = log_likelihood_avg(pc_st, test_x[j:j,:])\n",
    "    if ll1 != -Inf\n",
    "        tot1 += ll1\n",
    "        tot2 += ll2\n",
    "        tot3 += ll3\n",
    "        tot4 += ll4\n",
    "    else\n",
    "        exc += 1\n",
    "    end\n",
    "end\n",
    "println(\"SLOPP LL:\\t $tot1, $(num_nodes(pc_slopp)) nodes, $(num_parameters(pc_slopp)) par,  $exc excluded\")\n",
    "println(\"FF LL:\\t\\t $tot2, $(num_nodes(pc_ff)) nodes, $(num_parameters(pc_ff)) par\")\n",
    "println(\"CL LL:\\t\\t $tot3, $(num_nodes(pc_cl)) nodes, $(num_parameters(pc_cl)) par\")\n",
    "println(\"ST LL:\\t\\t $tot4, $(num_nodes(pc_st)) nodes, $(num_parameters(pc_st)) par\")"
   ]
  }
 ],
 "metadata": {
  "kernelspec": {
   "display_name": "Julia 1.6.1",
   "language": "julia",
   "name": "julia-1.6"
  },
  "language_info": {
   "file_extension": ".jl",
   "mimetype": "application/julia",
   "name": "julia",
   "version": "1.6.1"
  }
 },
 "nbformat": 4,
 "nbformat_minor": 5
}
